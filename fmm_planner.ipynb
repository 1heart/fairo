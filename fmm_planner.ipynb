{
 "cells": [
  {
   "cell_type": "code",
   "execution_count": 99,
   "metadata": {},
   "outputs": [],
   "source": [
    "import numpy as np\n",
    "import skfmm\n",
    "from numpy import ma\n",
    "import matplotlib.pyplot as plt"
   ]
  },
  {
   "cell_type": "code",
   "execution_count": 112,
   "metadata": {},
   "outputs": [],
   "source": [
    "class FMMPlanner(object):\n",
    "    def __init__(self, traversable, step_size=1):\n",
    "        \"\"\"\n",
    "\n",
    "        :param traversable: 2D np.ndarray boolean map , False for obstacle and True for free, unknow space\n",
    "        :param step_size: number of stapes agent suppose to travel in every short steps it takes towards goal\n",
    "\n",
    "        :type traversable: np.ndarray\n",
    "        :type step_size: int\n",
    "        \"\"\"\n",
    "        self.step_size = step_size\n",
    "        self.traversable = traversable\n",
    "\n",
    "    def set_goal(self, goal):\n",
    "        \"\"\"\n",
    "        Helps to set the goal and calculate distance from goal, try to visualize dd to get more intuition\n",
    "        :param goal: goal points in map space [x_goal_co-ordinate, y_goal_co-ordinate]\n",
    "        :type goal: list\n",
    "        \"\"\"\n",
    "        traversable_ma = ma.masked_values(self.traversable * 1, 0)\n",
    "#         print(f'traversable_ma \\n{traversable_ma}')\n",
    "        goal_x, goal_y = int(goal[0]), int(goal[1])\n",
    "        traversable_ma[goal_x, goal_y] = 0\n",
    "        print(f'traversable_ma \\n{traversable_ma}')\n",
    "        dd = skfmm.distance(traversable_ma, dx=1)\n",
    "        print(f'skfmm.distance \\n{dd}')\n",
    "        dd_mask = np.invert(np.isnan(ma.filled(dd, np.nan)))\n",
    "#         print(f'dd_mask \\n{dd_mask}')\n",
    "        dd = ma.filled(dd, np.max(dd) + 1)\n",
    "#         print(f'skfmm.distance \\n{dd}')\n",
    "        self.fmm_dist = dd\n",
    "        plt.title(\"Dist to Goal\")\n",
    "        plt.imshow(self.fmm_dist, origin=\"lower\")\n",
    "        plt.show()\n",
    "\n",
    "    def get_short_term_goal(self, state):\n",
    "        \"\"\"\n",
    "        Given the current state of robot, function outputs where should robot move based on map and step size\n",
    "        :param state: state of robot in map space [x_robot_map_co-ordinate, y_robot_map_co-ordinate]\n",
    "        :type state: list\n",
    "        :return: short term goal in map space where robot should move [x_map_co-ordinate, y_map_co-ordinate]\n",
    "        :rtype: list\n",
    "        \"\"\"\n",
    "        state = [int(x) for x in state]\n",
    "        # pad the map with\n",
    "        # to handle corners pad the dist with step size and values equal to max\n",
    "        dist = np.pad(\n",
    "            self.fmm_dist, self.step_size, \"constant\", constant_values=self.fmm_dist.shape[0] ** 2\n",
    "        )\n",
    "        plt.figure(figsize=(8, 4), constrained_layout=True)\n",
    "        ax1 = plt.subplot(1, 2, 1)\n",
    "        ax1.set_title(\"Dist to Goal\")\n",
    "        ax1.imshow(dist, origin=\"lower\")\n",
    "        # take subset of distance around the start, as its padded start should be corner instead of center\n",
    "        print(f'subsetting {state[0], state[0] + 2 * self.step_size + 1, state[1], state[1] + 2 * self.step_size + 1}')\n",
    "        subset = dist[\n",
    "            state[0] : state[0] + 2 * self.step_size + 1,\n",
    "            state[1] : state[1] + 2 * self.step_size + 1,\n",
    "        ]\n",
    "        \n",
    "        ax2 = plt.subplot(1, 2, 2)\n",
    "        ax2.set_title(\"Subset\")\n",
    "        ax2.imshow(subset, origin=\"lower\")\n",
    "        plt.show()\n",
    "        \n",
    "        print(f'dist \\n{dist}')\n",
    "        print(f'subset \\n{subset}')\n",
    "\n",
    "        # find the index which has minimum distance\n",
    "        (stg_x, stg_y) = np.unravel_index(np.argmin(subset), subset.shape)\n",
    "        print(f'stg_x, stg_y {stg_x, stg_y}, subset[stg_x][stg_y] {subset[stg_x][stg_y]}')\n",
    "        # convert index from subset frame\n",
    "        return (stg_x + state[0] - self.step_size) + 0.5, (stg_y + state[1] - self.step_size) + 0.5"
   ]
  },
  {
   "cell_type": "code",
   "execution_count": 113,
   "metadata": {},
   "outputs": [
    {
     "name": "stdout",
     "output_type": "stream",
     "text": [
      "traversable_ma \n",
      "[[1 1 1]\n",
      " [1 1 1]\n",
      " [1 0 1]]\n",
      "skfmm.distance \n",
      "[[2.51447807 2.         2.51447807]\n",
      " [1.70710678 1.         1.70710678]\n",
      " [1.         0.         1.        ]]\n"
     ]
    },
    {
     "data": {
      "image/png": "[encoded data removed]",
      "text/plain": [
       "<Figure size 432x288 with 1 Axes>"
      ]
     },
     "metadata": {
      "needs_background": "light"
     },
     "output_type": "display_data"
    }
   ],
   "source": [
    "traversable = np.random.choice(a=[True, True], size=(3,3))\n",
    "fmm = FMMPlanner(traversable)\n",
    "fmm.set_goal((2,1))"
   ]
  },
  {
   "cell_type": "code",
   "execution_count": 114,
   "metadata": {},
   "outputs": [
    {
     "name": "stdout",
     "output_type": "stream",
     "text": [
      "subsetting (0, 3, 0, 3)\n"
     ]
    },
    {
     "data": {
      "image/png": "[encoded data removed]",
      "text/plain": [
       "<Figure size 576x288 with 2 Axes>"
      ]
     },
     "metadata": {
      "needs_background": "light"
     },
     "output_type": "display_data"
    },
    {
     "name": "stdout",
     "output_type": "stream",
     "text": [
      "dist \n",
      "[[9.         9.         9.         9.         9.        ]\n",
      " [9.         2.51447807 2.         2.51447807 9.        ]\n",
      " [9.         1.70710678 1.         1.70710678 9.        ]\n",
      " [9.         1.         0.         1.         9.        ]\n",
      " [9.         9.         9.         9.         9.        ]]\n",
      "subset \n",
      "[[9.         9.         9.        ]\n",
      " [9.         2.51447807 2.        ]\n",
      " [9.         1.70710678 1.        ]]\n",
      "stg_x, stg_y (2, 2), subset[stg_x][stg_y] 1.0\n"
     ]
    },
    {
     "data": {
      "text/plain": [
       "(1.5, 1.5)"
      ]
     },
     "execution_count": 114,
     "metadata": {},
     "output_type": "execute_result"
    }
   ],
   "source": [
    "fmm.get_short_term_goal((0,0))"
   ]
  },
  {
   "cell_type": "code",
   "execution_count": 105,
   "metadata": {},
   "outputs": [
    {
     "name": "stdout",
     "output_type": "stream",
     "text": [
      "subsetting (1, 4, 1, 4)\n"
     ]
    },
    {
     "data": {
      "image/png": "[encoded data removed]",
      "text/plain": [
       "<Figure size 576x288 with 2 Axes>"
      ]
     },
     "metadata": {
      "needs_background": "light"
     },
     "output_type": "display_data"
    },
    {
     "name": "stdout",
     "output_type": "stream",
     "text": [
      "dist \n",
      "[[9.         9.         9.         9.         9.        ]\n",
      " [9.         2.51447807 2.         2.51447807 9.        ]\n",
      " [9.         1.70710678 1.         1.70710678 9.        ]\n",
      " [9.         1.         0.         1.         9.        ]\n",
      " [9.         9.         9.         9.         9.        ]]\n",
      "subset \n",
      "[[2.51447807 2.         2.51447807]\n",
      " [1.70710678 1.         1.70710678]\n",
      " [1.         0.         1.        ]]\n",
      "stg_x, stg_y (2, 1, 0.0)\n"
     ]
    },
    {
     "data": {
      "text/plain": [
       "(2.5, 1.5)"
      ]
     },
     "execution_count": 105,
     "metadata": {},
     "output_type": "execute_result"
    }
   ],
   "source": [
    "fmm.get_short_term_goal((1,1))"
   ]
  },
  {
   "cell_type": "code",
   "execution_count": 96,
   "metadata": {},
   "outputs": [
    {
     "data": {
      "text/plain": [
       "array([[0, 0, 1, 0, 0],\n",
       "       [0, 1, 1, 1, 0],\n",
       "       [1, 1, 1, 1, 1],\n",
       "       [0, 1, 1, 1, 0],\n",
       "       [0, 0, 1, 0, 0]], dtype=uint8)"
      ]
     },
     "execution_count": 96,
     "metadata": {},
     "output_type": "execute_result"
    }
   ],
   "source": [
    "selem"
   ]
  },
  {
   "cell_type": "code",
   "execution_count": 98,
   "metadata": {},
   "outputs": [
    {
     "name": "stdout",
     "output_type": "stream",
     "text": [
      "[[ True  True  True  True  True  True  True  True  True  True]\n",
      " [ True  True  True  True  True  True  True  True  True  True]\n",
      " [ True  True  True  True  True  True  True  True  True  True]\n",
      " [ True  True  True  True  True  True  True  True  True  True]\n",
      " [ True  True  True  True  True  True  True  True  True  True]\n",
      " [ True  True  True  True  True  True  True  True  True  True]\n",
      " [ True  True  True  True  True  True  True  True  True  True]\n",
      " [ True  True  True  True  True  True  True  True  True  True]\n",
      " [ True  True  True  True  True  True  True  True  True  True]\n",
      " [ True  True  True  True  True  True  True  True  True  True]]\n"
     ]
    },
    {
     "data": {
      "text/plain": [
       "array([[False, False, False, False, False, False, False, False, False,\n",
       "        False],\n",
       "       [False, False, False, False, False, False, False, False, False,\n",
       "        False],\n",
       "       [False, False, False, False, False, False, False, False, False,\n",
       "        False],\n",
       "       [False, False, False, False, False, False, False, False, False,\n",
       "        False],\n",
       "       [False, False, False, False, False, False, False, False, False,\n",
       "        False],\n",
       "       [False, False, False, False, False, False, False, False, False,\n",
       "        False],\n",
       "       [False, False, False, False, False, False, False, False, False,\n",
       "        False],\n",
       "       [False, False, False, False, False, False, False, False, False,\n",
       "        False],\n",
       "       [False, False, False, False, False, False, False, False, False,\n",
       "        False],\n",
       "       [False, False, False, False, False, False, False, False, False,\n",
       "        False]])"
      ]
     },
     "execution_count": 98,
     "metadata": {},
     "output_type": "execute_result"
    }
   ],
   "source": [
    "traversable = np.random.choice(a=[True, True], size=(10,10))\n",
    "print(traversable)\n",
    "binary_dilation(traversable, selem) != True"
   ]
  },
  {
   "cell_type": "code",
   "execution_count": null,
   "metadata": {},
   "outputs": [],
   "source": []
  }
 ],
 "metadata": {
  "kernelspec": {
   "display_name": "loco",
   "language": "python",
   "name": "loco"
  },
  "language_info": {
   "codemirror_mode": {
    "name": "ipython",
    "version": 3
   },
   "file_extension": ".py",
   "mimetype": "text/x-python",
   "name": "python",
   "nbconvert_exporter": "python",
   "pygments_lexer": "ipython3",
   "version": "3.7.4"
  }
 },
 "nbformat": 4,
 "nbformat_minor": 4
}
